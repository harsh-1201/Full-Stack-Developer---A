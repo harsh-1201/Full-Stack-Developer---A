from scraper.realestate_scraper import scrape_realestate_properties, save_to_csv

location = input("Enter location (e.g., Epping): ")

properties = scrape_realestate_properties(location)

if properties:
    filename = f"{location}_properties.csv"
    save_to_csv(properties, filename)
    print(f"Data saved to {filename}")
else:
    print("No data to save")

